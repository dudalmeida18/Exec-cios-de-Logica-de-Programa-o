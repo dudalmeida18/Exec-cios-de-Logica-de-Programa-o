{
 "cells": [
  {
   "cell_type": "code",
   "execution_count": 1,
   "metadata": {},
   "outputs": [
    {
     "name": "stdout",
     "output_type": "stream",
     "text": [
      "Duda\n"
     ]
    }
   ],
   "source": [
    "Questão 1\n",
    "nome = \"Duda\"\n",
    "print (nome)"
   ]
  },
  {
   "cell_type": "code",
   "execution_count": 3,
   "metadata": {},
   "outputs": [
    {
     "name": "stdout",
     "output_type": "stream",
     "text": [
      "Olá,Duda esssa é sua idade 18 anos\n"
     ]
    }
   ],
   "source": [
    "Questão 2\n",
    "nome = \"Duda\"\n",
    "idade = 18\n",
    "print(f\"Olá,{nome} essa é sua idade {idade} anos\")"
   ]
  },
  {
   "cell_type": "code",
   "execution_count": 4,
   "metadata": {},
   "outputs": [
    {
     "name": "stdout",
     "output_type": "stream",
     "text": [
      "você possui 19 ano\n"
     ]
    }
   ],
   "source": [
    "Questão 3\n",
    "ano_nascimento = 2005\n",
    "ano_atual = 2024\n",
    "print (\"você possui\",(ano_atual-ano_nascimento),\"ano\")"
   ]
  },
  {
   "cell_type": "code",
   "execution_count": 6,
   "metadata": {},
   "outputs": [
    {
     "name": "stdout",
     "output_type": "stream",
     "text": [
      "0\n"
     ]
    }
   ],
   "source": [
    "Questão 4\n",
    "print (10%2) "
   ]
  },
  {
   "cell_type": "code",
   "execution_count": 8,
   "metadata": {},
   "outputs": [
    {
     "name": "stdout",
     "output_type": "stream",
     "text": [
      "12.6\n"
     ]
    }
   ],
   "source": [
    "Questão 5\n",
    "preco = 12.60\n",
    "print (preco)"
   ]
  },
  {
   "cell_type": "code",
   "execution_count": 9,
   "metadata": {},
   "outputs": [
    {
     "name": "stdout",
     "output_type": "stream",
     "text": [
      "42.28\n"
     ]
    }
   ],
   "source": [
    "print (round(42.285,2))"
   ]
  }
 ],
 "metadata": {
  "kernelspec": {
   "display_name": "Python 3",
   "language": "python",
   "name": "python3"
  },
  "language_info": {
   "codemirror_mode": {
    "name": "ipython",
    "version": 3
   },
   "file_extension": ".py",
   "mimetype": "text/x-python",
   "name": "python",
   "nbconvert_exporter": "python",
   "pygments_lexer": "ipython3",
   "version": "3.12.3"
  }
 },
 "nbformat": 4,
 "nbformat_minor": 2
}
